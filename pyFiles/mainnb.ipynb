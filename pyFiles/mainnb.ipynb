{
 "cells": [
  {
   "cell_type": "markdown",
   "metadata": {},
   "source": [
    "Imports"
   ]
  },
  {
   "cell_type": "code",
   "execution_count": 4,
   "metadata": {},
   "outputs": [],
   "source": [
    "import numpy as np\n",
    "import random\n",
    "import pandas as pd\n",
    "import matplotlib.pyplot as plt\n",
    "from sklearn.linear_model import LinearRegression\n",
    "import scipy.stats as stats"
   ]
  },
  {
   "cell_type": "markdown",
   "metadata": {},
   "source": [
    "Comprar_figu(Comprar 1)"
   ]
  },
  {
   "cell_type": "code",
   "execution_count": null,
   "metadata": {},
   "outputs": [],
   "source": [
    "def comprar_figu(figus_total): #Comprar una sola figu\n",
    "    return random.randint(0,figus_total-1)"
   ]
  },
  {
   "cell_type": "markdown",
   "metadata": {},
   "source": [
    "Generar paquetes(Np y Randint)"
   ]
  },
  {
   "cell_type": "code",
   "execution_count": null,
   "metadata": {},
   "outputs": [],
   "source": [
    "#ConRandInt\n",
    "def generar_paquete(_figus_total, _figus_paquete, ):\n",
    "    figusPaquete = []\n",
    "    for _ in range(0,_figus_paquete-1):\n",
    "            figusPaquete.append(random.randint(0,_figus_total-1)) #Generar con Random\n",
    "    return figusPaquete"
   ]
  },
  {
   "cell_type": "code",
   "execution_count": 56,
   "metadata": {},
   "outputs": [],
   "source": [
    "#Con Numpy\n",
    "def generar_paquete(_figus_total, _figus_paquete, _weights):\n",
    "    return (np.random.choice(list(np.arange(0,_figus_total)), _figus_paquete,replace=False)).tolist() #Generar randoms ponerados con np' replace=False para evitar repes y p=weights para distintas probabilidades\n",
    "        #Le saco el param p=_weights porque al ser las weights random complica mucho el llenado, aumentando el runtime significativamente"
   ]
  },
  {
   "cell_type": "markdown",
   "metadata": {},
   "source": [
    "Chequear si esta lleno(Suma de todos los true(1) = cantidad de figus * la cantidad de coleccionistas)"
   ]
  },
  {
   "cell_type": "code",
   "execution_count": 18,
   "metadata": {},
   "outputs": [],
   "source": [
    "def esta_lleno(_album):\n",
    "    albumShape = _album.shape\n",
    "    return np.sum(_album)//(albumShape[0]*albumShape[1])"
   ]
  },
  {
   "cell_type": "markdown",
   "metadata": {},
   "source": [
    "Generate Random Weights"
   ]
  },
  {
   "cell_type": "code",
   "execution_count": null,
   "metadata": {},
   "outputs": [],
   "source": [
    "def generateRandomWeights(_tamaño):\n",
    "    weights = np.random.random(_tamaño)\n",
    "    weights /= weights.sum()\n",
    "    return weights"
   ]
  },
  {
   "cell_type": "markdown",
   "metadata": {},
   "source": [
    "Cantor Pairing Function para pairear ints"
   ]
  },
  {
   "cell_type": "code",
   "execution_count": 16,
   "metadata": {},
   "outputs": [],
   "source": [
    "def cantorFunction(x1,x2): #La encontre en google y es para relacionar dos ints, mas rapido que iterar por todos los tuples\n",
    "    return (((x1+x2)*(x1+x2+1))/2)+x2"
   ]
  },
  {
   "cell_type": "markdown",
   "metadata": {},
   "source": [
    "Funciones Principales"
   ]
  },
  {
   "cell_type": "code",
   "execution_count": 62,
   "metadata": {},
   "outputs": [],
   "source": [
    "def cuantas_figus(_figus_total,_figusxPaquete,_cantColeccionistas,_figusWeights):\n",
    "    figusAdquiridas = []\n",
    "    album = np.full(\n",
    "                    shape=(_figus_total,_cantColeccionistas),\n",
    "                    fill_value=0,\n",
    "                    dtype=int\n",
    "                    )\n",
    "    repes={}\n",
    "    for coleccionista in range(0,_cantColeccionistas): #Creamos para guardar coleccionistas\n",
    "        repes[coleccionista] = []   \n",
    "    contPaquetes = 0\n",
    "\n",
    "    faltantes = [set(np.arange(0,_figus_total).flatten()) for _ in range(_cantColeccionistas)]\n",
    "    \n",
    "    while not esta_lleno(album):\n",
    "        yaProcesados=set() #Lo utilizamos para evitar operar sobre los mismos dos coleccionistas mas de una vez\n",
    "        for coleccionista in range (0,_cantColeccionistas): #Iteramos sobre todos los coleccionistas para chequear todos con todos\n",
    "            coleccionistas = np.arange(0,_cantColeccionistas)\n",
    "            coleccionistas = np.delete(coleccionistas, np.where(coleccionistas==coleccionista))\n",
    "            while(len(coleccionistas) != 0):#Logica de intercambiado de figus\n",
    "                coleccionistaSeleccionado = coleccionistas[random.randint(0,len(coleccionistas)-1)] #Seleccionamos un coleccionista random y lo borramos de la lista\n",
    "                coleccionistasPaired = cantorFunction(coleccionista,coleccionistaSeleccionado)\n",
    "                if not coleccionistasPaired in yaProcesados:\n",
    "                    yaProcesados.add(coleccionistasPaired)\n",
    "                    coleccionistas = np.delete(coleccionistas, np.where(coleccionistas==coleccionistaSeleccionado))\n",
    "                    if len(repes[coleccionistaSeleccionado]) > 0 and len(repes[coleccionista]) > 0:\n",
    "                        for figuRepeSeleccionado in repes[coleccionistaSeleccionado]: #iteramos sobre todas las repes del seleccionado\n",
    "                            if figuRepeSeleccionado in faltantes[coleccionista]: \n",
    "                                for figuRepeColeccionista in repes[coleccionista]: #Nos fijamos si alguna repe del coleccionista le sirve al seleccionado\n",
    "                                    if figuRepeColeccionista in faltantes[coleccionistaSeleccionado] and figuRepeColeccionista != figuRepeSeleccionado and figuRepeSeleccionado in faltantes[coleccionista]:\n",
    "                                        album[figuRepeSeleccionado][coleccionista] = 1; album[figuRepeColeccionista][coleccionistaSeleccionado] = 1\n",
    "                                        repes[coleccionistaSeleccionado].remove(figuRepeSeleccionado)\n",
    "                                        repes[coleccionista].remove(figuRepeColeccionista)\n",
    "                                        faltantes[coleccionistaSeleccionado].remove(figuRepeColeccionista) #Producir el intercambio, eliminar de repes, faltantes y hacer 1 el valor en album\n",
    "                                        faltantes[coleccionista].remove(figuRepeSeleccionado)\n",
    "                                \n",
    "        for coleccionista in range (0,_cantColeccionistas):\n",
    "            contPaquetes += 1\n",
    "            for figu in generar_paquete(_figus_total,_figusxPaquete,_figusWeights):   \n",
    "                if album[figu][coleccionista] == 0: \n",
    "                    album[figu][coleccionista] = 1\n",
    "                    faltantes[coleccionista].remove(figu)\n",
    "                    figusAdquiridas.append(figu)\n",
    "                else:\n",
    "                    repes[coleccionista].append(figu)\n",
    "    return (contPaquetes,figusAdquiridas)"
   ]
  },
  {
   "cell_type": "code",
   "execution_count": 63,
   "metadata": {},
   "outputs": [],
   "source": [
    "def promedio(tamaño,repeticiones,figusPaquete,cantColeccionistas):\n",
    "    res = []\n",
    "    figusTotales = []\n",
    "    figuWeights = generateRandomWeights(tamaño)\n",
    "    for _ in range(0,repeticiones):\n",
    "        iteracion = cuantas_figus(tamaño,figusPaquete,cantColeccionistas,figuWeights)\n",
    "        res.append(iteracion[0]); figusTotales += iteracion[1]\n",
    "    prom = np.mean(res) #Obtener Promedio\n",
    "    getDistrib(tamaño,figusTotales)\n",
    "    print(f\"La mediana es: {mediana(insertionSort(res))}\")\n",
    "    print(f\"El promedio es: {prom}\")\n",
    "    return prom"
   ]
  },
  {
   "cell_type": "markdown",
   "metadata": {},
   "source": [
    "Insertion Sort y Encontrar la mediana-Extra5"
   ]
  },
  {
   "cell_type": "code",
   "execution_count": 14,
   "metadata": {},
   "outputs": [],
   "source": [
    "def insertionSort(arr):\n",
    "    for i in range(1, len(arr)):\n",
    "        p = arr[i]\n",
    "        j = i - 1\n",
    "        while j >= 0 and arr[j] > p:\n",
    "            arr[j + 1] = arr[j]\n",
    "            j -= 1\n",
    "        arr[j + 1] = p\n",
    "    return arr\n",
    "\n",
    "def mediana(arr):\n",
    "    i = len(arr)//2\n",
    "    if len(arr) %2 != 1:\n",
    "        return arr[i]\n",
    "    return (arr[i- 1] + arr[i]) / 2"
   ]
  },
  {
   "cell_type": "markdown",
   "metadata": {},
   "source": [
    "Scipy get density distribution of figus"
   ]
  },
  {
   "cell_type": "code",
   "execution_count": null,
   "metadata": {},
   "outputs": [],
   "source": [
    "def getDistrib(_figusTotales,_figusList):\n",
    "    figusTotales = pd.Series(np.array(_figusList))\n",
    "    pd.DataFrame(figusTotales).plot(kind=\"density\",\n",
    "                                      figsize=(10,10),\n",
    "                                      xlim=(-1,_figusTotales+50));\n",
    "    \n",
    "    mayorDensidad = [0,0]\n",
    "    for x in range(-1, _figusTotales,1):\n",
    "        densityX = stats.uniform.pdf(x, loc=0, scale=_figusTotales)\n",
    "        if densityX >= mayorDensidad[0]:\n",
    "            mayorDensidad[0] = densityX\n",
    "            mayorDensidad[1] = x\n",
    "            \n",
    "    print(f\"La mayor Densidad fue: {mayorDensidad[0]} y fue en x={mayorDensidad[1]}\")\n",
    "        \n",
    "    return"
   ]
  },
  {
   "cell_type": "markdown",
   "metadata": {},
   "source": [
    "Inputs y usage"
   ]
  },
  {
   "cell_type": "code",
   "execution_count": 71,
   "metadata": {},
   "outputs": [
    {
     "name": "stdout",
     "output_type": "stream",
     "text": [
      "La mayor Densidad fue: 0.0014947683109118087 y fue en x=668\n",
      "El promedio es: 910.5\n"
     ]
    },
    {
     "data": {
      "text/plain": [
       "910.5"
      ]
     },
     "execution_count": 71,
     "metadata": {},
     "output_type": "execute_result"
    },
    {
     "data": {
      "image/png": "[encoded data removed]",
      "text/plain": [
       "<Figure size 720x720 with 1 Axes>"
      ]
     },
     "metadata": {
      "needs_background": "light"
     },
     "output_type": "display_data"
    }
   ],
   "source": [
    "tamAlbum = int(input(\"Ingrese el tamaño del album: \"))\n",
    "rep = int(input(\"Ingrese el numero de repeticiones a promediar: \"))\n",
    "figXPaq = int(input(\"Ingrese el numero de figuritas por paquete: \")) #Inputs\n",
    "cantCol = int(input(\"Ingrese la cantidad de collecionistas en el problema: \"))\n",
    "\n",
    "promedio(tamAlbum,rep,figXPaq,cantCol)"
   ]
  },
  {
   "cell_type": "code",
   "execution_count": 73,
   "metadata": {},
   "outputs": [
    {
     "name": "stdout",
     "output_type": "stream",
     "text": [
      "Prob de completar con menos de 850 paquetes: 0.34\n"
     ]
    },
    {
     "data": {
      "text/plain": [
       "0.34"
      ]
     },
     "execution_count": 73,
     "metadata": {},
     "output_type": "execute_result"
    }
   ],
   "source": [
    "#Chequear prob de completar con N paquetes o menos\n",
    "tamAlbum = int(input(\"Ingrese el tamaño del album: \"))\n",
    "rep = int(input(\"Ingrese el numero de repeticiones a promediar: \"))\n",
    "figXPaq = int(input(\"Ingrese el numero de figuritas por paquete: \")) #Inputs\n",
    "cantCol = int(input(\"Ingrese la cantidad de collecionistas en el problema: \"))\n",
    "n = int(input(\"Que numero desea chequear? \"))\n",
    "\n",
    "def chequearProb(tamaño,repeticiones,figusPaquete,numAChequar,cantColeccionistas):\n",
    "    contMenorANum= 0;\n",
    "    weights = [(1/tamaño)]*tamaño\n",
    "    for _ in range(0,repeticiones):\n",
    "        if cuantas_figus(tamaño,figusPaquete,cantColeccionistas,weights)[0] <= numAChequar:\n",
    "            contMenorANum+=1\n",
    "    prob = (contMenorANum/repeticiones)\n",
    "    print(f\"Prob de completar con menos de {numAChequar} paquetes: {prob}\")\n",
    "    return prob\n",
    "\n",
    "chequearProb(tamAlbum,rep,figXPaq,n,cantCol)"
   ]
  },
  {
   "cell_type": "markdown",
   "metadata": {},
   "source": [
    "Scipy get common distribution of figus"
   ]
  },
  {
   "cell_type": "markdown",
   "metadata": {},
   "source": [
    "Linear regression to predict"
   ]
  },
  {
   "cell_type": "code",
   "execution_count": null,
   "metadata": {},
   "outputs": [],
   "source": [
    "x = np.array([850, 1150, 900, 950, 1000, 1100]).reshape((-1, 1))\n",
    "y = np.array([0.36, 0.85, 0.45, 0.56, 0.66, 0.86])\n",
    "XTotal = (np.arange(0,2000)).reshape((-1, 1))"
   ]
  },
  {
   "cell_type": "code",
   "execution_count": 6,
   "metadata": {},
   "outputs": [
    {
     "name": "stdout",
     "output_type": "stream",
     "text": [
      "predicted response:\n",
      "[-1.11608696 -1.11433292 -1.11257888 ...  2.38672547  2.3884795\n",
      "  2.39023354]\n"
     ]
    }
   ],
   "source": [
    "model = LinearRegression().fit(x, y)\n",
    "Pred_Y = model.predict(XTotal)\n",
    "print('predicted response:', Pred_Y, sep='\\n')"
   ]
  },
  {
   "cell_type": "code",
   "execution_count": 7,
   "metadata": {},
   "outputs": [
    {
     "data": {
      "image/png": "[encoded data removed]",
      "text/plain": [
       "<Figure size 432x288 with 1 Axes>"
      ]
     },
     "metadata": {
      "needs_background": "light"
     },
     "output_type": "display_data"
    }
   ],
   "source": [
    "\n",
    "#Scatter Plot\n",
    "fig = plt.figure()\n",
    "ax = fig.add_subplot(111)\n",
    "ax.set_title('% De completar el album con menos de x figus', fontsize=15)   \n",
    "ax.set_xlabel('Paquetes Comprados', fontsize=12)\n",
    "ax.set_ylabel('% de Completar', fontsize=12)\n",
    "ax.axis([0, 2000, 0, 1])\n",
    "#Plot Model\n",
    "XTotal = (np.arange(0,2000)); XTotal.reshape((-1, 1))\n",
    "ax.plot(XTotal,Pred_Y,color='r', label='LinearRegModel')\n",
    "ax.plot(x, y,'o', color=\"b\", label='True Values')\n",
    "\n",
    "plt.legend()\n",
    "plt.show()"
   ]
  }
 ],
 "metadata": {
  "interpreter": {
   "hash": "ad2bdc8ecc057115af97d19610ffacc2b4e99fae6737bb82f5d7fb13d2f2c186"
  },
  "kernelspec": {
   "display_name": "Python 3.8.8 ('base')",
   "language": "python",
   "name": "python3"
  },
  "language_info": {
   "codemirror_mode": {
    "name": "ipython",
    "version": 3
   },
   "file_extension": ".py",
   "mimetype": "text/x-python",
   "name": "python",
   "nbconvert_exporter": "python",
   "pygments_lexer": "ipython3",
   "version": "3.10.0"
  },
  "orig_nbformat": 4
 },
 "nbformat": 4,
 "nbformat_minor": 2
}
